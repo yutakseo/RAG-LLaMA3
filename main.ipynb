{
 "cells": [
  {
   "cell_type": "code",
   "execution_count": 32,
   "metadata": {},
   "outputs": [],
   "source": [
    "import os"
   ]
  },
  {
   "cell_type": "code",
   "execution_count": 33,
   "metadata": {},
   "outputs": [],
   "source": [
    "from langchain_community.document_loaders import PyMuPDFLoader"
   ]
  },
  {
   "cell_type": "code",
   "execution_count": 34,
   "metadata": {},
   "outputs": [],
   "source": [
    "loader = PyMuPDFLoader(\"industry_laws.pdf\")\n",
    "pages = loader.load()"
   ]
  },
  {
   "cell_type": "code",
   "execution_count": 35,
   "metadata": {},
   "outputs": [],
   "source": [
    "from langchain.text_splitter import RecursiveCharacterTextSplitter"
   ]
  },
  {
   "cell_type": "code",
   "execution_count": 36,
   "metadata": {},
   "outputs": [],
   "source": [
    "# 문서를 문장으로 분리\n",
    "## 청크 크기 500, 각 청크의 50자씩 겹치도록 청크를 나눈다\n",
    "text_splitter = RecursiveCharacterTextSplitter(\n",
    "    chunk_size=500,\n",
    "    chunk_overlap=50,\n",
    ")\n",
    "docs = text_splitter.split_documents(pages)"
   ]
  },
  {
   "cell_type": "code",
   "execution_count": 37,
   "metadata": {},
   "outputs": [],
   "source": [
    "from langchain.embeddings import HuggingFaceEmbeddings"
   ]
  },
  {
   "cell_type": "code",
   "execution_count": 38,
   "metadata": {},
   "outputs": [],
   "source": [
    "# 문장을 임베딩으로 변환하고 벡터 저장소에 저장\n",
    "embeddings = HuggingFaceEmbeddings(\n",
    "    model_name='BAAI/bge-m3',\n",
    "    model_kwargs={'device':'cuda'},\n",
    "    encode_kwargs={'normalize_embeddings':True},\n",
    ")"
   ]
  },
  {
   "cell_type": "code",
   "execution_count": 39,
   "metadata": {},
   "outputs": [
    {
     "name": "stdout",
     "output_type": "stream",
     "text": [
      "Vectorstore created and persisted\n"
     ]
    }
   ],
   "source": [
    "# 벡터 저장소 생성\n",
    "from langchain.vectorstores import Chroma\n",
    "vectorstore = Chroma.from_documents(docs, embeddings)\n",
    "\n",
    "\n",
    "# 벡터 저장소 경로 설정\n",
    "## 현재 경로에 'vectorstore' 경로 생성\n",
    "vectorstore_path = 'vectorstore'\n",
    "os.makedirs(vectorstore_path, exist_ok=True)\n",
    "\n",
    "# 벡터 저장소 생성 및 저장\n",
    "vectorstore = Chroma.from_documents(docs, embeddings, persist_directory=vectorstore_path)\n",
    "# 벡터스토어 데이터를 디스크에 저장\n",
    "vectorstore.persist()\n",
    "print(\"Vectorstore created and persisted\")"
   ]
  },
  {
   "cell_type": "code",
   "execution_count": 40,
   "metadata": {},
   "outputs": [],
   "source": [
    "from langchain_community.chat_models import ChatOllama\n",
    "\n",
    "# Ollama 를 이용해 로컬에서 LLM 실행\n",
    "## llama3-ko-instruct 모델 다운로드는 Ollama 사용법 참조\n",
    "model = ChatOllama(model=\"llama3.1\", temperature=0)"
   ]
  },
  {
   "cell_type": "code",
   "execution_count": 41,
   "metadata": {},
   "outputs": [],
   "source": [
    "retriever = vectorstore.as_retriever(search_kwargs={'k': 5})"
   ]
  },
  {
   "cell_type": "code",
   "execution_count": 45,
   "metadata": {},
   "outputs": [],
   "source": [
    "from langchain_core.runnables import RunnablePassthrough\n",
    "from langchain_core.output_parsers import StrOutputParser\n",
    "from langchain_core.prompts import ChatPromptTemplate\n",
    "\n",
    "\n",
    "# Prompt 템플릿 생성\n",
    "template = '''상대방의 요청에 최대한 자세하고 객관적으로 답하자. \n",
    "모든 대답은 한국어(Korean)으로 대답하자.\n",
    "사고 경위가 입력되면 그 사고 경위를 이해하고,\n",
    "그와 관련된 법령 5가지를 찾아 관련도가 높은 순서대로 나열해서 보고서 형식으로 말하자:\n",
    "\n",
    "\n",
    "\n",
    "{context}\n",
    "\n",
    "Question: {question}\n",
    "'''\n",
    "\n",
    "prompt = ChatPromptTemplate.from_template(template)\n",
    "\n",
    "def format_docs(docs):\n",
    "    return '\\n\\n'.join([d.page_content for d in docs])\n",
    "\n",
    "# RAG Chain 연결\n",
    "rag_chain = (\n",
    "    {'context': retriever | format_docs, 'question': RunnablePassthrough()}\n",
    "    | prompt\n",
    "    | model\n",
    "    | StrOutputParser()\n",
    ")"
   ]
  },
  {
   "cell_type": "code",
   "execution_count": 46,
   "metadata": {},
   "outputs": [
    {
     "name": "stdout",
     "output_type": "stream",
     "text": [
      "Query: 현장소장 외 5명, 크레인기사1명이 공사 시작 첫날 2019.10.28일 11시 50분경 O구에 위치한 해양경찰서 OO파출소 앞에서 붐의 끝부분을  수신호에 맞지 않게 들다가 크레인이 기울어지며 크레인과 붐을 연결하고 있던 슬링밸트가 풀어지며 피해자가  파일과 붐사이에 끼여서 OO대학병원 응급실에 가서 응급수술을 하다가 사망함.\n",
      "Answer: **보고서**\n",
      "\n",
      "**사고 경위**\n",
      "\n",
      "2019년 10월 28일, O구 해양경찰서 OO파출소 앞에서 크레인 작업이 시작되었습니다. 현장소장 외 5명과 크레인 기사가 함께 작업을 수행했습니다. 그러나 첫날인 11시 50분 경에, 크레인이 기울어지며 슬링밸트가 풀어졌습니다. 이로 인해 피해자가 파일과 붐사이에 끼여서 OO대학병원 응급실로 옮겨져 응급수술을 받았지만 사망했습니다.\n",
      "\n",
      "**관련 법령 5가지**\n",
      "\n",
      "1. **제3관 이동식 크레인 제147조(설계기준 준수)**: 사업주는 이동식 크레인을 사용하는 경우에 그 이동식 크레인이 넘어지거나 그 이동식 크레인의 구조 부분을 구성하는 강재 등이 변형되거나 부러지는 일 등을 방지하기 위하여 해당 이동식 크레인의 설계기준(제조자가 제공하는 사용설명서)을 준수하여야 한다.\n",
      "2. **제3관 이동식 크레인 제148조(안전밸브의 조정)**: 사업주는 유압을 동력으로 사용하는 이동식 크레인의 과도한 압력상승을 방지하기 위한 안전밸브를 설치하고, 그 밸브의 조정을 철저히 하여야 한다.\n",
      "3. **제147조(설계기준 준수) 제정개정사**: 2024년 6월 28일부터 적용되는 법령으로, 사업주는 이동식 크레인의 설계기준을 준수하여야 하며, 그 이동식 크레인이 넘어지거나 구조 부분이 변형되거나 부러지는 일 등을 방지하기 위하여 해당 이동식 크레인의 설계기준을 준수해야 한다.\n",
      "4. **제148조(안전밸브의 조정) 제정개정사**: 2024년 6월 28일부터 적용되는 법령으로, 사업주는 유압을 동력으로 사용하는 이동식 크레인의 과도한 압력상승을 방지하기 위한 안전밸브를 설치하고, 그 밸브의 조정을 철저히 해야 한다.\n",
      "5. **제3관 이동식 크레인 제149조(안전교육)**: 사업주는 이동식 크레인을 사용하는 근로자에게 안전 교육을 제공하여야 하며, 그 교육 내용은 다음과 같다.\n",
      "\n",
      "*   이동식 크레인의 구조와 작동 원리\n",
      "*   안전 장치의 설치 및 유지 관리\n",
      "*   작업 시 안전 조치를 취할 수 있는 방법\n",
      "\n",
      "이 법령은 사업주가 근로자의 안전을 보장하기 위한 최소한의 기준을 제공하며, 사업주는 이 법령을 준수하여야 하며, 그 준수를 위하여 필요한 모든 조치를 취해야 한다.\n"
     ]
    }
   ],
   "source": [
    "# Chain 실행\n",
    "query = \"현장소장 외 5명, 크레인기사1명이 공사 시작 첫날 2019.10.28일 11시 50분경 O구에 위치한 해양경찰서 OO파출소 앞에서 붐의 끝부분을  수신호에 맞지 않게 들다가 크레인이 기울어지며 크레인과 붐을 연결하고 있던 슬링밸트가 풀어지며 피해자가  파일과 붐사이에 끼여서 OO대학병원 응급실에 가서 응급수술을 하다가 사망함.\"\n",
    "answer = rag_chain.invoke(query)\n",
    "print(\"Query:\", query)\n",
    "print(\"Answer:\", answer)"
   ]
  }
 ],
 "metadata": {
  "kernelspec": {
   "display_name": "Python 3",
   "language": "python",
   "name": "python3"
  },
  "language_info": {
   "codemirror_mode": {
    "name": "ipython",
    "version": 3
   },
   "file_extension": ".py",
   "mimetype": "text/x-python",
   "name": "python",
   "nbconvert_exporter": "python",
   "pygments_lexer": "ipython3",
   "version": "3.10.12"
  }
 },
 "nbformat": 4,
 "nbformat_minor": 2
}
